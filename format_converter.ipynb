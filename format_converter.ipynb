{
 "cells": [
  {
   "cell_type": "markdown",
   "metadata": {},
   "source": [
    "# The following function allows us to load a DICOM volume and to save it in NIfTI format"
   ]
  },
  {
   "cell_type": "code",
   "execution_count": 3,
   "metadata": {},
   "outputs": [],
   "source": [
    "def DICOMtoNIfTI(input_DICOM, output_DICOM):\n",
    "    #directory should be between quotation marks: ''\n",
    "    referenceVolumeNode = slicer.util.loadVolume(input_DICOM,{'singleFile': False})\n",
    "    saveNode(referenceVolumeNode,output_DICOM)\n",
    "    print('NIfTI file successfully created')"
   ]
  },
  {
   "cell_type": "markdown",
   "metadata": {},
   "source": [
    "Now, we are going to run the previous function and to check whether it is correct\n",
    "\n",
    "**Add wanted directories**"
   ]
  },
  {
   "cell_type": "code",
   "execution_count": 13,
   "metadata": {},
   "outputs": [
    {
     "name": "stdout",
     "output_type": "stream",
     "text": [
      "NIfTI file successfully created\n"
     ]
    }
   ],
   "source": [
    "input_DICOM=''\n",
    "output_DICOM=''\n",
    "DICOMtoNIfTI(input_directory, output_directory)"
   ]
  },
  {
   "cell_type": "markdown",
   "metadata": {},
   "source": [
    "# The following function allows us to load a STL volume together with the corresponding DICOM volume and to save it in NIfTI format"
   ]
  },
  {
   "cell_type": "code",
   "execution_count": 5,
   "metadata": {},
   "outputs": [],
   "source": [
    "def STLtoNIfTI(Reference_volume,input_STL,output_STL):\n",
    "    referenceVolumeNode = slicer.util.loadVolume(Reference_volume,{'singleFile': False})\n",
    "    segmentationNode=slicer.util.loadSegmentation(input_STL)\n",
    "    labelmapVolumeNode = slicer.mrmlScene.AddNewNodeByClass('vtkMRMLLabelMapVolumeNode')\n",
    "    slicer.modules.segmentations.logic().ExportVisibleSegmentsToLabelmapNode(segmentationNode, labelmapVolumeNode, referenceVolumeNode)\n",
    "    #the last line of code was to create the segmentation according to the volume\n",
    "    mynode=labelmapVolumeNode\n",
    "    myStorageNode=mynode.CreateDefaultStorageNode()\n",
    "    myStorageNode.SetFileName(output_STL)\n",
    "    myStorageNode.WriteData(mynode)\n",
    "    print('NIfTI file of the segmentation successfully created')"
   ]
  },
  {
   "cell_type": "markdown",
   "metadata": {},
   "source": [
    "Now, we are going to run the previous function and to check whether it is correct\n",
    "\n",
    "**Add wanted directories**"
   ]
  },
  {
   "cell_type": "code",
   "execution_count": 1,
   "metadata": {},
   "outputs": [
    {
     "ename": "NameError",
     "evalue": "name 'STLtoNIfTI' is not defined",
     "output_type": "error",
     "traceback": [
      "\u001b[0;31m---------------------------------------------------------------------------\u001b[0m\n\u001b[0;31mNameError\u001b[0m                                 Traceback (most recent call last)",
      "In  \u001b[0;34m[1]\u001b[0m:\nLine \u001b[0;34m4\u001b[0m:     \n",
      "\u001b[0;31mNameError\u001b[0m: name 'STLtoNIfTI' is not defined\n\u001b[0;31m---------------------------------------------------------------------------\u001b[0m"
     ]
    }
   ],
   "source": [
    "Reference_volume=''#reference volume (dicom or nifti)\n",
    "input_STL=''\n",
    "output_STL=''\n",
    "STLtoNIfTI(Reference_volume,input_STL,output_STL)"
   ]
  },
  {
   "cell_type": "code",
   "execution_count": null,
   "metadata": {},
   "outputs": [],
   "source": []
  }
 ],
 "metadata": {
  "kernelspec": {
   "display_name": "Slicer 4.11",
   "language": "python",
   "name": "slicer-4.11"
  },
  "language_info": {
   "file_extension": ".py",
   "mimetype": "text/x-python",
   "name": "python",
   "version": "3.6.7"
  }
 },
 "nbformat": 4,
 "nbformat_minor": 4
}
